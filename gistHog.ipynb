{
 "cells": [
  {
   "cell_type": "code",
   "execution_count": 1,
   "id": "f951ae53-0b0a-472c-96bb-c8d53f07ca6f",
   "metadata": {},
   "outputs": [],
   "source": [
    "import os\n",
    "import numpy as np\n",
    "from PIL import Image\n",
    "from leargist import color_gist\n",
    "#from skimage.feature import hog\n",
    "from sklearn.svm import SVC\n",
    "from sklearn.metrics import classification_report, accuracy_score"
   ]
  },
  {
   "cell_type": "code",
   "execution_count": 2,
   "id": "3798447c-0d51-4e0d-8f92-c303879bff4e",
   "metadata": {},
   "outputs": [],
   "source": [
    "def load_images(folder):\n",
    "    images = []\n",
    "    labels = []\n",
    "    for root, dirs, files in os.walk(folder):\n",
    "        if dirs == []:\n",
    "            for name in files:\n",
    "                img = Image.open(os.path.join(root, name))\n",
    "                images.append(img)\n",
    "                if \"Other\" not in root:\n",
    "                    labels.append(1)\n",
    "                else:\n",
    "                    labels.append(0)\n",
    "    return images, labels"
   ]
  },
  {
   "cell_type": "code",
   "execution_count": 3,
   "id": "93f73a32-f293-41c6-8092-bb5ece6d0347",
   "metadata": {},
   "outputs": [],
   "source": [
    "def extract_gist_features(images):\n",
    "    features = []\n",
    "    for img in images:\n",
    "        gist_descriptor = color_gist(img)\n",
    "        features.append(gist_descriptor)\n",
    "    return np.array(features)"
   ]
  },
  {
   "cell_type": "code",
   "execution_count": 4,
   "id": "0e46b2c5-7540-4cd1-aa82-48a9279a182a",
   "metadata": {},
   "outputs": [],
   "source": [
    "def extract_hog_features(images):\n",
    "    features = []\n",
    "    for img in images:\n",
    "        hog_descriptor, _ = hog(img, pixels_per_cell=(8, 8), cells_per_block=(2, 2), visualize=True)\n",
    "        features.append(hog_descriptor)\n",
    "    return np.array(features)"
   ]
  },
  {
   "cell_type": "code",
   "execution_count": 5,
   "id": "db3a476e-7056-4b4b-a6a6-9c5ad0e3558e",
   "metadata": {},
   "outputs": [],
   "source": [
    "# Path to the folder containing images\n",
    "train_folder = \"/home/kali/Documents/Major_Project/dumpware10_images/4096/300/TRAIN/\"\n",
    "test_folder = \"/home/kali/Documents/Major_Project/dumpware10_images/4096/300/TEST/\""
   ]
  },
  {
   "cell_type": "code",
   "execution_count": 6,
   "id": "2b7803ab-314d-4326-aa6c-499d179f9e1e",
   "metadata": {},
   "outputs": [],
   "source": [
    "# Load images and labels\n",
    "train_images, train_labels = load_images(train_folder)\n",
    "test_images, test_labels = load_images(test_folder)"
   ]
  },
  {
   "cell_type": "code",
   "execution_count": 7,
   "id": "5263c586-c093-4840-9bde-8308f3c2cc00",
   "metadata": {},
   "outputs": [
    {
     "name": "stderr",
     "output_type": "stream",
     "text": [
      "/home/kali/.local/lib/python2.7/site-packages/ipykernel_launcher.py:4: DeprecationWarning: The binary mode of fromstring is deprecated, as it behaves surprisingly on unicode inputs. Use frombuffer instead\n",
      "  after removing the cwd from sys.path.\n"
     ]
    }
   ],
   "source": [
    "# Extract GIST features\n",
    "train_gist_features = extract_gist_features(train_images)\n",
    "test_gist_features = extract_gist_features(test_images)"
   ]
  },
  {
   "cell_type": "code",
   "execution_count": 8,
   "id": "8246d653-271d-4bf3-8674-a64b4660d701",
   "metadata": {},
   "outputs": [],
   "source": [
    "# Extract HOG features\n",
    "# hog_features = extract_hog_features(images)"
   ]
  },
  {
   "cell_type": "code",
   "execution_count": 9,
   "id": "136cb195-8e95-49f6-9ee1-706db23380da",
   "metadata": {},
   "outputs": [],
   "source": [
    "# Combine GIST and HOG features\n",
    "#    features = np.hstack((gist_features, hog_features))\n",
    "#    print(test_images)\n",
    "#    print(test_labels)"
   ]
  },
  {
   "cell_type": "code",
   "execution_count": 10,
   "id": "33d38951-4370-4c80-87cd-7eadd3cc4527",
   "metadata": {},
   "outputs": [],
   "source": [
    "# Split data into training and test sets\n",
    "#    X_train, X_test, y_train, y_test = train_test_split(features, labels, test_size=0.2, random_state=42)\n",
    "X_train = train_gist_features\n",
    "y_train = train_labels\n",
    "X_test = test_gist_features\n",
    "y_test = test_labels"
   ]
  },
  {
   "cell_type": "code",
   "execution_count": 12,
   "id": "ce221e0a-4f64-4eeb-b9bf-90c09d551a45",
   "metadata": {},
   "outputs": [],
   "source": [
    "import matplotlib.pyplot as plt\n",
    "import pandas as pd"
   ]
  },
  {
   "cell_type": "code",
   "execution_count": 13,
   "id": "75722755-251e-46cd-a3f6-aef7a61876ba",
   "metadata": {},
   "outputs": [],
   "source": [
    "# X, y = make_circles(n_samples=500, noise=0.06, random_state=42)\n",
    "df = pd.DataFrame(dict(x1=X_train[:, 0], x2=X_train[:, 1], y=y_train))"
   ]
  },
  {
   "cell_type": "code",
   "execution_count": 14,
   "id": "2ca28c42-dbe6-4609-801e-5425d5dd284f",
   "metadata": {},
   "outputs": [
    {
     "data": {
      "image/png": "[encoded data removed]",
      "text/plain": [
       "<Figure size 432x288 with 1 Axes>"
      ]
     },
     "metadata": {
      "needs_background": "light"
     },
     "output_type": "display_data"
    }
   ],
   "source": [
    "colors = {0:'blue', 1:'yellow'}\n",
    "fig, ax = plt.subplots()\n",
    "grouped = df.groupby('y')\n",
    "for key, group in grouped:\n",
    "    group.plot(ax=ax, kind='scatter', x='x1', y='x2', label=key, color = colors[key])\n",
    "plt.show()"
   ]
  },
  {
   "cell_type": "code",
   "execution_count": 21,
   "id": "75ea6654-c3bc-4ea4-9542-9cc991c09ca6",
   "metadata": {},
   "outputs": [
    {
     "name": "stdout",
     "output_type": "stream",
     "text": [
      "[LibSVM]"
     ]
    },
    {
     "data": {
      "text/plain": [
       "SVC(C=10.0, cache_size=200, class_weight=None, coef0=0.0,\n",
       "  decision_function_shape='ovr', degree=3, gamma='scale', kernel='rbf',\n",
       "  max_iter=-1, probability=False, random_state=None, shrinking=True,\n",
       "  tol=0.001, verbose=True)"
      ]
     },
     "execution_count": 21,
     "metadata": {},
     "output_type": "execute_result"
    }
   ],
   "source": [
    "# Initialize and train the SVM classifier\n",
    "svm_classifier = SVC(C=10.0, kernel='rbf', gamma='scale', verbose=True)\n",
    "svm_classifier.fit(X_train, y_train)"
   ]
  },
  {
   "cell_type": "code",
   "execution_count": 22,
   "id": "adfe0a63-a5d8-49ea-b417-40ef7562e037",
   "metadata": {},
   "outputs": [
    {
     "name": "stdout",
     "output_type": "stream",
     "text": [
      "Classification Report:\n",
      "              precision    recall  f1-score   support\n",
      "\n",
      "           0       0.91      0.72      0.80       121\n",
      "           1       0.96      0.99      0.97       740\n",
      "\n",
      "   micro avg       0.95      0.95      0.95       861\n",
      "   macro avg       0.93      0.85      0.89       861\n",
      "weighted avg       0.95      0.95      0.95       861\n",
      "\n",
      "('Accuracy Score:', 0.9500580720092915)\n"
     ]
    }
   ],
   "source": [
    "# Predict and evaluate the classifier\n",
    "y_pred = svm_classifier.predict(X_test)\n",
    "print(\"Classification Report:\")\n",
    "print(classification_report(y_test, y_pred))\n",
    "print(\"Accuracy Score:\", accuracy_score(y_test, y_pred))"
   ]
  },
  {
   "cell_type": "code",
   "execution_count": null,
   "id": "55fe6edc-60cb-4303-b891-fe300a121077",
   "metadata": {},
   "outputs": [],
   "source": [
    "import pickle\n",
    "pickle.dump(model, open('model.pkl', 'wb'))\n",
    "pickled_model = pickle.load(open('model.pkl', 'rb'))\n",
    "pickled_model.predict(X_test)"
   ]
  }
 ],
 "metadata": {
  "kernelspec": {
   "display_name": "Python 2",
   "language": "python",
   "name": "python2"
  },
  "language_info": {
   "codemirror_mode": {
    "name": "ipython",
    "version": 2
   },
   "file_extension": ".py",
   "mimetype": "text/x-python",
   "name": "python",
   "nbconvert_exporter": "python",
   "pygments_lexer": "ipython2",
   "version": "2.7.18"
  }
 },
 "nbformat": 4,
 "nbformat_minor": 5
}
